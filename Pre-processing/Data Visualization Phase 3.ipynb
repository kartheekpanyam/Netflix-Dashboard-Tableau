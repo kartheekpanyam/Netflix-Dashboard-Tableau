{
 "cells": [
  {
   "cell_type": "code",
   "execution_count": 4,
   "id": "281ceb58-2e93-43ee-8164-be45d2bc6cc9",
   "metadata": {},
   "outputs": [
    {
     "name": "stdout",
     "output_type": "stream",
     "text": [
      "Cleaned data saved as 'netflix_titles_cleaned.csv'\n"
     ]
    }
   ],
   "source": [
    "import pandas as pd\n",
    "\n",
    "# Load the dataset\n",
    "df = pd.read_csv('netflix_titles.csv')\n",
    "\n",
    "# Fix missing values\n",
    "df['director'] = df['director'].fillna('Unknown')\n",
    "df['cast'] = df['cast'].fillna('Unknown')\n",
    "df['country'] = df['country'].fillna('Unknown')\n",
    "\n",
    "# Convert 'date_added' to datetime\n",
    "df['date_added'] = pd.to_datetime(df['date_added'], errors='coerce')\n",
    "df['year_added'] = df['date_added'].dt.year\n",
    "df['month_added'] = df['date_added'].dt.month\n",
    "\n",
    "# Normalize duration\n",
    "df['duration_minutes'] = df['duration'].str.extract(r'(\\d+)').astype(float)\n",
    "df['seasons'] = df['duration'].apply(lambda x: float(x.split(' ')[0]) if isinstance(x, str) and 'Season' in x else None)\n",
    "\n",
    "# Split genres\n",
    "df['genres'] = df['listed_in'].str.split(', ')\n",
    "\n",
    "# Save cleaned dataset\n",
    "df.to_csv('netflix_titles_cleaned.csv', index=False)\n",
    "print(\"Cleaned data saved as 'netflix_titles_cleaned.csv'\")\n"
   ]
  },
  {
   "cell_type": "code",
   "execution_count": null,
   "id": "29c37ccb-d4bf-459f-859e-d3359ccd0b14",
   "metadata": {},
   "outputs": [],
   "source": []
  }
 ],
 "metadata": {
  "kernelspec": {
   "display_name": "Python [conda env:base] *",
   "language": "python",
   "name": "conda-base-py"
  },
  "language_info": {
   "codemirror_mode": {
    "name": "ipython",
    "version": 3
   },
   "file_extension": ".py",
   "mimetype": "text/x-python",
   "name": "python",
   "nbconvert_exporter": "python",
   "pygments_lexer": "ipython3",
   "version": "3.12.7"
  }
 },
 "nbformat": 4,
 "nbformat_minor": 5
}
